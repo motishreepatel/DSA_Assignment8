{
 "cells": [
  {
   "cell_type": "code",
   "execution_count": 1,
   "metadata": {},
   "outputs": [
    {
     "name": "stdout",
     "output_type": "stream",
     "text": [
      "231\n"
     ]
    }
   ],
   "source": [
    "#Q - Question 1\n",
    "\n",
    "'''Given two strings s1 and s2, return *the lowest **ASCII** sum of deleted characters to make two strings equal*.\n",
    "**Example 1:**\n",
    "**Input:** s1 = \"sea\", s2 = \"eat\" ''' \n",
    "#Answer:\n",
    "\n",
    "def minimumDeleteSum(s1, s2):\n",
    "    m, n = len(s1), len(s2)\n",
    "    dp = [[0] * (n + 1) for _ in range(m + 1)]\n",
    "    \n",
    "    for i in range(1, m + 1):\n",
    "        dp[i][0] = dp[i-1][0] + ord(s1[i-1])\n",
    "    \n",
    "    for j in range(1, n + 1):\n",
    "        dp[0][j] = dp[0][j-1] + ord(s2[j-1])\n",
    "    \n",
    "    for i in range(1, m + 1):\n",
    "        for j in range(1, n + 1):\n",
    "            if s1[i-1] == s2[j-1]:\n",
    "                dp[i][j] = dp[i-1][j-1]\n",
    "            else:\n",
    "                dp[i][j] = min(dp[i-1][j] + ord(s1[i-1]), dp[i][j-1] + ord(s2[j-1]))\n",
    "    \n",
    "    return dp[m][n]\n",
    "    \n",
    "s1 = \"sea\"\n",
    "s2 = \"eat\"\n",
    "result = minimumDeleteSum(s1, s2)\n",
    "print(result)\n"
   ]
  },
  {
   "cell_type": "code",
   "execution_count": 4,
   "metadata": {},
   "outputs": [
    {
     "name": "stdout",
     "output_type": "stream",
     "text": [
      "True\n"
     ]
    }
   ],
   "source": [
    "#Q - Question 2\n",
    "\n",
    "'''Given a string s containing only three types of characters: '(', ')' and '*', return true *if* s *is **valid***.\n",
    "\n",
    "The following rules define a **valid** string:\n",
    "\n",
    "- Any left parenthesis '(' must have a corresponding right parenthesis ')'.\n",
    "- Any right parenthesis ')' must have a corresponding left parenthesis '('.\n",
    "- Left parenthesis '(' must go before the corresponding right parenthesis ')'.\n",
    "- '*' could be treated as a single right parenthesis ')' or a single left parenthesis '(' or an empty string \"\".\n",
    "\n",
    "**Example 1:**\n",
    "**Input:** s = \"()\" '''\n",
    "#Answer:def isValid(s):\n",
    "def isValid(s):\n",
    "    stack = []\n",
    "    for c in s:\n",
    "        if c in '(*':\n",
    "            stack.append(c)\n",
    "        elif c == ')':\n",
    "            if stack and stack[-1] == '(':\n",
    "                stack.pop()\n",
    "            elif stack and stack[-1] == '*':\n",
    "                stack.pop()\n",
    "            else:\n",
    "                return False\n",
    "    return len(stack) == 0\n",
    "\n",
    "s = \"()\"\n",
    "result = isValid(s)\n",
    "print(result)\n"
   ]
  },
  {
   "cell_type": "code",
   "execution_count": 5,
   "metadata": {},
   "outputs": [
    {
     "name": "stdout",
     "output_type": "stream",
     "text": [
      "2\n"
     ]
    }
   ],
   "source": [
    "#Q - Question 3\n",
    "\n",
    "'''Given two strings word1 and word2, return *the minimum number of **steps** required to make* word1 *and* word2 *the same*.\n",
    "\n",
    "In one **step**, you can delete exactly one character in either string.\n",
    "\n",
    "**Example 1:**\n",
    "\n",
    "**Input:** word1 = \"sea\", word2 = \"eat\" ''' \n",
    "#Answer:\n",
    "def minDistance(word1, word2):\n",
    "    m, n = len(word1), len(word2)\n",
    "    dp = [[0] * (n + 1) for _ in range(m + 1)]\n",
    "    \n",
    "    for i in range(m + 1):\n",
    "        dp[i][0] = i\n",
    "    \n",
    "    for j in range(n + 1):\n",
    "        dp[0][j] = j\n",
    "    \n",
    "    for i in range(1, m + 1):\n",
    "        for j in range(1, n + 1):\n",
    "            if word1[i-1] == word2[j-1]:\n",
    "                dp[i][j] = dp[i-1][j-1]\n",
    "            else:\n",
    "                dp[i][j] = min(dp[i-1][j] + 1, dp[i][j-1] + 1)\n",
    "    \n",
    "    return dp[m][n]\n",
    "\n",
    "word1 = \"sea\"\n",
    "word2 = \"eat\"\n",
    "result = minDistance(word1, word2)\n",
    "print(result)\n",
    "\n"
   ]
  },
  {
   "cell_type": "code",
   "execution_count": 9,
   "metadata": {},
   "outputs": [
    {
     "name": "stdout",
     "output_type": "stream",
     "text": [
      "65\n"
     ]
    }
   ],
   "source": [
    "#Q - Question 4\n",
    "\n",
    "'''You need to construct a binary tree from a string consisting of parenthesis and integers.\n",
    "\n",
    "The whole input represents a binary tree. It contains an integer followed by zero, one or two pairs of parenthesis. The integer represents the root's value and a pair of parenthesis contains a child binary tree with the same structure.\n",
    "You always start to construct the **left** child node of the parent first if it exists.\n",
    "Input: s = \"4(2(3)(1))(6(5))\" ''' \n",
    "\n",
    "#Answer:\n",
    "class TreeNode:\n",
    "    def __init__(self, val=0, left=None, right=None):\n",
    "        self.val = val\n",
    "        self.left = left\n",
    "        self.right = right\n",
    "\n",
    "def str2tree(s):\n",
    "    stack = []\n",
    "\n",
    "    i = 0\n",
    "    while i < len(s):\n",
    "        if s[i].isdigit() or s[i] == '-':\n",
    "            j = i\n",
    "            while j < len(s) and (s[j].isdigit() or s[j] == '-'):\n",
    "                j += 1\n",
    "            val = int(s[i:j])\n",
    "            node = TreeNode(val)\n",
    "            stack.append(node)\n",
    "            i = j - 1\n",
    "        elif s[i] == ')':\n",
    "            current = stack.pop()\n",
    "            if i + 1 < len(s) and s[i + 1] == '(':\n",
    "                i += 1\n",
    "                current.left = stack[-1] if stack else None\n",
    "                stack.append(current.left)\n",
    "            elif i + 1 < len(s) and s[i + 1] == ')':\n",
    "                i += 1\n",
    "                if stack:\n",
    "                    stack[-1].right = current\n",
    "        i += 1\n",
    "\n",
    "    return stack[-1] if stack else None\n",
    "\n",
    "\n",
    "def inorder_traversal(node):\n",
    "    if not node:\n",
    "        return \"\"\n",
    "    result = \"\"\n",
    "    if node.left:\n",
    "        result += inorder_traversal(node.left)\n",
    "    result += str(node.val)\n",
    "    if node.right:\n",
    "        result += inorder_traversal(node.right)\n",
    "    return result\n",
    "\n",
    "\n",
    "s = \"4(2(3)(1))(6(5))\"\n",
    "result = str2tree(s)\n",
    "output = inorder_traversal(result)\n",
    "print(output)\n"
   ]
  },
  {
   "cell_type": "code",
   "execution_count": 10,
   "metadata": {},
   "outputs": [
    {
     "name": "stdout",
     "output_type": "stream",
     "text": [
      "['a', '2', 'b', '2', 'c', '3']\n"
     ]
    }
   ],
   "source": [
    "#Q - Question 5\n",
    "\n",
    "'''Given an array of characters chars, compress it using the following algorithm:\n",
    "\n",
    "Begin with an empty string s. For each group of **consecutive repeating characters** in chars:\n",
    "\n",
    "- If the group's length is 1, append the character to s.\n",
    "- Otherwise, append the character followed by the group's length.\n",
    "\n",
    "The compressed string s **should not be returned separately**, but instead, be stored **in the input character array chars**. Note that group lengths that are 10 or longer will be split into multiple characters in chars.\n",
    "\n",
    "After you are done **modifying the input array,** return *the new length of the array*.\n",
    "\n",
    "You must write an algorithm that uses only constant extra space.\n",
    "\n",
    "**Example 1:**\n",
    "\n",
    "**Input:** chars = [\"a\",\"a\",\"b\",\"b\",\"c\",\"c\",\"c\"] '''\n",
    "\n",
    "#Answer:\n",
    "def compress(chars):\n",
    "    i = 0\n",
    "    j = 0\n",
    "    count = 0\n",
    "\n",
    "    while j < len(chars):\n",
    "        count = 1\n",
    "        while j + 1 < len(chars) and chars[j] == chars[j + 1]:\n",
    "            count += 1\n",
    "            j += 1\n",
    "\n",
    "        chars[i] = chars[j]\n",
    "        i += 1\n",
    "\n",
    "        if count > 1:\n",
    "            count_str = str(count)\n",
    "            for ch in count_str:\n",
    "                chars[i] = ch\n",
    "                i += 1\n",
    "\n",
    "        j += 1\n",
    "\n",
    "    return i\n",
    "\n",
    "chars = [\"a\",\"a\",\"b\",\"b\",\"c\",\"c\",\"c\"]\n",
    "result = compress(chars)\n",
    "print(chars[:result])\n"
   ]
  },
  {
   "cell_type": "code",
   "execution_count": 11,
   "metadata": {},
   "outputs": [
    {
     "name": "stdout",
     "output_type": "stream",
     "text": [
      "[0, 6]\n"
     ]
    }
   ],
   "source": [
    "#Q - Question 6\n",
    "\n",
    "'''Given two strings s and p, return *an array of all the start indices of* p*'s anagrams in* s. You may return the answer in **any order**.\n",
    "\n",
    "An **Anagram** is a word or phrase formed by rearranging the letters of a different word or phrase, typically using all the original letters exactly once.\n",
    "\n",
    "**Example 1:**\n",
    "\n",
    "**Input:** s = \"cbaebabacd\", p = \"abc\"\n",
    "''' \n",
    "#Answer:\n",
    "from collections import Counter\n",
    "\n",
    "def findAnagrams(s, p):\n",
    "    p_freq = Counter(p)\n",
    "    window_freq = Counter()\n",
    "    left = 0\n",
    "    result = []\n",
    "\n",
    "    for right in range(len(s)):\n",
    "        window_freq[s[right]] += 1\n",
    "\n",
    "        if right >= len(p):\n",
    "            if window_freq[s[left]] == 1:\n",
    "                del window_freq[s[left]]\n",
    "            else:\n",
    "                window_freq[s[left]] -= 1\n",
    "            left += 1\n",
    "\n",
    "        if window_freq == p_freq:\n",
    "            result.append(left)\n",
    "\n",
    "    return result\n",
    "\n",
    "s = \"cbaebabacd\"\n",
    "p = \"abc\"\n",
    "result = findAnagrams(s, p)\n",
    "print(result)"
   ]
  },
  {
   "cell_type": "code",
   "execution_count": 12,
   "metadata": {},
   "outputs": [
    {
     "name": "stdout",
     "output_type": "stream",
     "text": [
      "aaabcbc\n"
     ]
    }
   ],
   "source": [
    "#Q - Question7\n",
    "'''Given an encoded string, return its decoded string.\n",
    "\n",
    "The encoding rule is: k[encoded_string], where the encoded_string inside the square brackets is being repeated exactly k times. Note that k is guaranteed to be a positive integer.\n",
    "\n",
    "You may assume that the input string is always valid; there are no extra white spaces, square brackets are well-formed, etc. Furthermore, you may assume that the original data does not contain any digits and that digits are only for those repeat numbers, k. For example, there will not be input like 3a or 2[4].\n",
    "\n",
    "The test cases are generated so that the length of the output will never exceed 105.\n",
    "\n",
    "**Example 1:**\n",
    "\n",
    "**Input:** s = \"3[a]2[bc]\" ''' \n",
    "\n",
    "#Answer:\n",
    "def decodeString(s):\n",
    "    stack = []\n",
    "    current_string = \"\"\n",
    "    repeat_count = \"\"\n",
    "\n",
    "    for c in s:\n",
    "        if c.isdigit():\n",
    "            repeat_count += c\n",
    "        elif c == '[':\n",
    "            stack.append((current_string, int(repeat_count)))\n",
    "            current_string = \"\"\n",
    "            repeat_count = \"\"\n",
    "        elif c == ']':\n",
    "            prev_string, count = stack.pop()\n",
    "            current_string = prev_string + current_string * count\n",
    "        else:\n",
    "            current_string += c\n",
    "\n",
    "    return current_string\n",
    "\n",
    "s = \"3[a]2[bc]\"\n",
    "result = decodeString(s)\n",
    "print(result)\n"
   ]
  },
  {
   "cell_type": "code",
   "execution_count": 13,
   "metadata": {},
   "outputs": [
    {
     "name": "stdout",
     "output_type": "stream",
     "text": [
      "True\n"
     ]
    }
   ],
   "source": [
    "#Q - Question 8\n",
    "\n",
    "'''Given two strings s and goal, return true *if you can swap two letters in* s *so the result is equal to* goal*, otherwise, return* false*.*\n",
    "\n",
    "Swapping letters is defined as taking two indices i and j (0-indexed) such that i != j and swapping the characters at s[i] and s[j].\n",
    "\n",
    "- For example, swapping at indices 0 and 2 in \"abcd\" results in \"cbad\".\n",
    "\n",
    "**Example 1:**\n",
    "\n",
    "**Input:** s = \"ab\", goal = \"ba\"\n",
    "''' \n",
    "\n",
    "#Answer:\n",
    "def canBeEqual(s, goal):\n",
    "    diff_s = []\n",
    "    diff_goal = []\n",
    "\n",
    "    for i, c in enumerate(s):\n",
    "        if c != goal[i]:\n",
    "            diff_s.append(c)\n",
    "            diff_goal.append(goal[i])\n",
    "\n",
    "    if len(diff_s) != 2:\n",
    "        return False\n",
    "\n",
    "    return diff_s[0] == diff_goal[1] and diff_s[1] == diff_goal[0]\n",
    "\n",
    "s = \"ab\"\n",
    "goal = \"ba\"\n",
    "result = canBeEqual(s, goal)\n",
    "print(result)\n"
   ]
  },
  {
   "cell_type": "code",
   "execution_count": null,
   "metadata": {},
   "outputs": [],
   "source": []
  }
 ],
 "metadata": {
  "kernelspec": {
   "display_name": "Python 3.9.6 64-bit",
   "language": "python",
   "name": "python3"
  },
  "language_info": {
   "codemirror_mode": {
    "name": "ipython",
    "version": 3
   },
   "file_extension": ".py",
   "mimetype": "text/x-python",
   "name": "python",
   "nbconvert_exporter": "python",
   "pygments_lexer": "ipython3",
   "version": "3.9.6"
  },
  "orig_nbformat": 4,
  "vscode": {
   "interpreter": {
    "hash": "31f2aee4e71d21fbe5cf8b01ff0e069b9275f58929596ceb00d14d90e3e16cd6"
   }
  }
 },
 "nbformat": 4,
 "nbformat_minor": 2
}
